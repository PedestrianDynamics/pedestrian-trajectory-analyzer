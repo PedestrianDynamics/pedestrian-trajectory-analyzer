{
 "cells": [
  {
   "cell_type": "markdown",
   "source": [
    "# Setup"
   ],
   "metadata": {
    "collapsed": false,
    "pycharm": {
     "name": "#%% md\n"
    }
   }
  },
  {
   "cell_type": "markdown",
   "source": [
    "## Parse trajectory"
   ],
   "metadata": {
    "collapsed": false,
    "pycharm": {
     "name": "#%% md\n"
    }
   }
  },
  {
   "cell_type": "code",
   "execution_count": null,
   "outputs": [],
   "source": [
    "import pathlib\n",
    "\n",
    "import numpy as np\n",
    "\n",
    "from analyzer.io.trajectory_parser import parse_trajectory\n",
    "\n",
    "trajectory = parse_trajectory(pathlib.Path(\"demos/crossing/CROSSING_90_D_6.txt\"), 16.0)"
   ],
   "metadata": {
    "collapsed": false,
    "pycharm": {
     "name": "#%%\n"
    }
   }
  },
  {
   "cell_type": "markdown",
   "source": [
    "## Define geometry"
   ],
   "metadata": {
    "collapsed": false,
    "pycharm": {
     "name": "#%% md\n"
    }
   }
  },
  {
   "cell_type": "markdown",
   "source": [
    "### Define geometry in code"
   ],
   "metadata": {
    "collapsed": false,
    "pycharm": {
     "name": "#%% md\n"
    }
   }
  },
  {
   "cell_type": "code",
   "execution_count": null,
   "outputs": [],
   "source": [
    "import pygeos\n",
    "from analyzer.data.geometry import Geometry\n",
    "\n",
    "geometry = Geometry(\n",
    "    pygeos.polygons(\n",
    "        [\n",
    "            (-9, 3),\n",
    "            (-2, 3),\n",
    "            (-2, 10),\n",
    "            (2, 10),\n",
    "            (2, 3),\n",
    "            (9, 3),\n",
    "            (9, -1),\n",
    "            (2, -1),\n",
    "            (2, -8),\n",
    "            (-2, -8),\n",
    "            (-2, -1),\n",
    "            (-9, -1),\n",
    "            (-9, 3),\n",
    "        ]\n",
    "    )\n",
    ")"
   ],
   "metadata": {
    "collapsed": false,
    "pycharm": {
     "name": "#%%\n"
    }
   }
  },
  {
   "cell_type": "markdown",
   "source": [
    "### Define geometry in file\n",
    "\n",
    "The same format as for JuPedSim geometries can be used as well directly from files.\n",
    "\n",
    "**Note:** Currently obstacles will not be parsed from the file!"
   ],
   "metadata": {
    "collapsed": false,
    "pycharm": {
     "name": "#%% md\n"
    }
   }
  },
  {
   "cell_type": "code",
   "execution_count": null,
   "outputs": [],
   "source": [
    "import pathlib\n",
    "from analyzer.data.geometry import Geometry\n",
    "from analyzer.io.geometry_parser import parse_geometry\n",
    "\n",
    "# geometry = parse_geometry(pathlib.Path(\"demos/crossing/geometry.xml\"))"
   ],
   "metadata": {
    "collapsed": false,
    "pycharm": {
     "name": "#%%\n"
    }
   }
  },
  {
   "cell_type": "markdown",
   "source": [
    "## Define measurement areas and lines"
   ],
   "metadata": {
    "collapsed": false,
    "pycharm": {
     "name": "#%% md\n"
    }
   }
  },
  {
   "cell_type": "code",
   "execution_count": null,
   "outputs": [],
   "source": [
    "import pygeos\n",
    "\n",
    "measurement_area = pygeos.polygons([(-2, -1), (-2, 3), (2, 3), (2, -1)])\n",
    "\n",
    "measurement_line_left = pygeos.linestrings([(-3, 3), (-3, -1)])\n",
    "measurement_line_right = pygeos.linestrings([(3, 3), (3, -1)])\n",
    "\n",
    "measurement_line_top = pygeos.linestrings([(-2, 4), (2, 4)])\n",
    "measurement_line_bottom = pygeos.linestrings([(-2, -2), (2, -2)])"
   ],
   "metadata": {
    "collapsed": false,
    "pycharm": {
     "name": "#%%\n"
    }
   }
  },
  {
   "cell_type": "markdown",
   "source": [
    "## Plot trajectories, geometry, and measurement areas/lines"
   ],
   "metadata": {
    "collapsed": false,
    "pycharm": {
     "name": "#%% md\n"
    }
   }
  },
  {
   "cell_type": "code",
   "execution_count": null,
   "outputs": [],
   "source": [
    "import matplotlib.pyplot as plt\n",
    "\n",
    "fig = plt.figure(figsize=(15, 20))\n",
    "ax1 = fig.add_subplot(111, aspect=\"equal\")\n",
    "\n",
    "# Plot geometry\n",
    "ax1.plot(*pygeos.to_shapely(geometry.walkable_area).exterior.xy, color=\"k\")\n",
    "\n",
    "## Plot measurement area\n",
    "ax1.plot(*pygeos.to_shapely(measurement_area).exterior.xy, color=\"g\")\n",
    "ax1.fill(*pygeos.to_shapely(measurement_area).exterior.xy, color=\"g\", alpha=0.3)\n",
    "\n",
    "## Plot measurement lines\n",
    "ax1.plot(*pygeos.to_shapely(measurement_line_left).xy, color=\"b\")\n",
    "ax1.plot(*pygeos.to_shapely(measurement_line_right).xy, color=\"b\")\n",
    "ax1.plot(*pygeos.to_shapely(measurement_line_top).xy, color=\"orange\")\n",
    "ax1.plot(*pygeos.to_shapely(measurement_line_bottom).xy, color=\"orange\")\n",
    "\n",
    "# Plot trajectories\n",
    "for id, ped in trajectory.data.groupby(\"ID\"):\n",
    "    p = ax1.plot(ped[\"X\"], ped[\"Y\"], label=id, alpha=0.1, color=\"r\")\n",
    "    ax1.scatter(\n",
    "        ped[ped.frame == ped.frame.max()][\"X\"],\n",
    "        ped[ped.frame == ped.frame.max()][\"Y\"],\n",
    "        c=p[-1].get_color(),\n",
    "        marker=\"x\",\n",
    "    )\n",
    "plt.show()"
   ],
   "metadata": {
    "collapsed": false,
    "pycharm": {
     "name": "#%%\n"
    }
   }
  },
  {
   "cell_type": "markdown",
   "source": [
    "# Methods A"
   ],
   "metadata": {
    "collapsed": false,
    "pycharm": {
     "name": "#%% md\n"
    }
   }
  },
  {
   "cell_type": "markdown",
   "source": [
    "## Compute n-t and flow"
   ],
   "metadata": {
    "collapsed": false,
    "pycharm": {
     "name": "#%% md\n"
    }
   }
  },
  {
   "cell_type": "code",
   "execution_count": null,
   "outputs": [],
   "source": [
    "from analyzer.methods.flow_calculator import compute_n_t\n",
    "from analyzer.methods.flow_calculator import compute_flow\n",
    "\n",
    "from analyzer.methods.velocity_calculator import compute_individual_velocity\n",
    "\n",
    "individual_speed = compute_individual_velocity(trajectory.data, trajectory.frame_rate, 10)\n",
    "\n",
    "nt_left, crossing_left = compute_n_t(trajectory.data, measurement_line_left, trajectory.frame_rate)\n",
    "nt_right, crossing_right = compute_n_t(\n",
    "    trajectory.data, measurement_line_right, trajectory.frame_rate\n",
    ")\n",
    "\n",
    "delta_t = 100\n",
    "flow_left = compute_flow(nt_left, crossing_left, individual_speed, delta_t, trajectory.frame_rate)\n",
    "flow_right = compute_flow(\n",
    "    nt_right, crossing_right, individual_speed, delta_t, trajectory.frame_rate\n",
    ")"
   ],
   "metadata": {
    "collapsed": false,
    "pycharm": {
     "name": "#%%\n"
    }
   }
  },
  {
   "cell_type": "markdown",
   "source": [
    "## Plot n-t diagram"
   ],
   "metadata": {
    "collapsed": false,
    "pycharm": {
     "name": "#%% md\n"
    }
   }
  },
  {
   "cell_type": "code",
   "execution_count": null,
   "outputs": [],
   "source": [
    "import matplotlib.pyplot as plt\n",
    "\n",
    "fig = plt.figure(figsize=(7, 7))\n",
    "ax1 = fig.add_subplot(111)\n",
    "\n",
    "ax1.plot(nt_left.index, nt_left[\"Cumulative pedestrians\"], label=\"left\")\n",
    "ax1.plot(nt_right.index, nt_right[\"Cumulative pedestrians\"], label=\"right\")\n",
    "\n",
    "ax1.legend()\n",
    "plt.show()"
   ],
   "metadata": {
    "collapsed": false,
    "pycharm": {
     "name": "#%%\n"
    }
   }
  },
  {
   "cell_type": "markdown",
   "source": [
    "# Method B"
   ],
   "metadata": {
    "collapsed": false,
    "pycharm": {
     "name": "#%% md\n"
    }
   }
  },
  {
   "cell_type": "markdown",
   "source": [
    "## Compute individual velocity and density while passing the measurement area"
   ],
   "metadata": {
    "collapsed": false,
    "pycharm": {
     "name": "#%% md\n"
    }
   }
  },
  {
   "cell_type": "code",
   "execution_count": null,
   "outputs": [],
   "source": [
    "from analyzer.methods.velocity_calculator import compute_passing_speed\n",
    "from analyzer.methods.density_calculator import compute_passing_density, compute_classic_density\n",
    "from analyzer.methods.method_utils import compute_frame_range_in_area\n",
    "\n",
    "density_per_frame = compute_classic_density(trajectory.data, measurement_area)\n",
    "frames_in_area = compute_frame_range_in_area(trajectory.data, measurement_area)\n",
    "passing_speed = compute_passing_speed(frames_in_area, trajectory.frame_rate)\n",
    "passing_density = compute_passing_density(density_per_frame, frames_in_area)"
   ],
   "metadata": {
    "collapsed": false,
    "pycharm": {
     "name": "#%%\n"
    }
   }
  },
  {
   "cell_type": "markdown",
   "source": [
    "## Plot fundamental diagram"
   ],
   "metadata": {
    "collapsed": false,
    "pycharm": {
     "name": "#%% md\n"
    }
   }
  },
  {
   "cell_type": "code",
   "execution_count": null,
   "outputs": [],
   "source": [
    "import matplotlib.pyplot as plt\n",
    "\n",
    "fig = plt.figure(figsize=(7, 7))\n",
    "ax1 = fig.add_subplot(111)\n",
    "\n",
    "ax1.scatter(passing_density[\"density\"], passing_speed[\"speed\"])\n",
    "ax1.set_xlim(left=0, right=5)\n",
    "ax1.set_ylim(bottom=-0.2, top=3)\n",
    "\n",
    "ax1.set_xlabel(\"rho / 1/m^2\")\n",
    "ax1.set_ylabel(\"v/ m/s\")\n",
    "ax1.grid()\n",
    "plt.show()"
   ],
   "metadata": {
    "collapsed": false,
    "pycharm": {
     "name": "#%%\n"
    }
   }
  },
  {
   "cell_type": "markdown",
   "source": [
    "# Method C"
   ],
   "metadata": {
    "collapsed": false,
    "pycharm": {
     "name": "#%% md\n"
    }
   }
  },
  {
   "cell_type": "markdown",
   "source": [
    "## Compute density and velocity"
   ],
   "metadata": {
    "collapsed": false,
    "pycharm": {
     "name": "#%% md\n"
    }
   }
  },
  {
   "cell_type": "code",
   "execution_count": null,
   "outputs": [],
   "source": [
    "from analyzer.methods.density_calculator import compute_classic_density\n",
    "from analyzer.methods.velocity_calculator import compute_mean_velocity_per_frame\n",
    "from analyzer.methods.method_utils import get_peds_in_area\n",
    "\n",
    "peds_in_area = get_peds_in_area(trajectory.data, measurement_area)\n",
    "mean_speed_area, individual_speed_area = compute_mean_velocity_per_frame(\n",
    "    peds_in_area, trajectory.frame_rate, 5\n",
    ")\n",
    "\n",
    "classic_density = compute_classic_density(peds_in_area, measurement_area)"
   ],
   "metadata": {
    "collapsed": false,
    "pycharm": {
     "name": "#%%\n"
    }
   }
  },
  {
   "cell_type": "markdown",
   "source": [
    "## Plot velocity, density and fundamental diagram"
   ],
   "metadata": {
    "collapsed": false,
    "pycharm": {
     "name": "#%% md\n"
    }
   }
  },
  {
   "cell_type": "code",
   "execution_count": null,
   "outputs": [],
   "source": [
    "import matplotlib.pyplot as plt\n",
    "\n",
    "fig, (ax0, ax1, ax2) = plt.subplots(nrows=1, ncols=3, figsize=(20, 6))\n",
    "\n",
    "ax0.set_title(\"Velocity\")\n",
    "ax0.scatter(mean_speed_area.index, mean_speed_area, alpha=0.5, marker=\"x\")\n",
    "ax0.set_xlim(\n",
    "    left=0,\n",
    ")\n",
    "ax0.set_ylim(bottom=-0.2, top=3)\n",
    "ax0.set_xlabel(\"frame\")\n",
    "ax0.set_ylabel(\"v / m/s\")\n",
    "ax0.grid()\n",
    "\n",
    "ax1.set_title(\"Density\")\n",
    "ax1.scatter(classic_density.index, classic_density[\"classic density\"], alpha=0.5, marker=\"x\")\n",
    "ax1.set_xlim(left=0)\n",
    "ax1.set_ylim(bottom=0, top=4)\n",
    "ax1.set_xlabel(\"frame\")\n",
    "ax1.set_ylabel(\"rho / 1/m^2\")\n",
    "ax1.grid()\n",
    "\n",
    "ax2.set_title(\"Fundamental Diagram\")\n",
    "\n",
    "ax2.scatter(\n",
    "    classic_density[\"classic density\"],\n",
    "    mean_speed_area,\n",
    "    alpha=0.2,\n",
    "    marker=\"x\",\n",
    ")\n",
    "ax2.set_aspect(\"equal\")\n",
    "ax2.set_xlim(left=0, right=5)\n",
    "ax2.set_ylim(bottom=-0.2, top=3)\n",
    "\n",
    "ax2.set_xlabel(\"rho / 1/m^2\")\n",
    "ax2.set_ylabel(\"v/ m/s\")\n",
    "ax2.grid()"
   ],
   "metadata": {
    "collapsed": false,
    "pycharm": {
     "name": "#%%\n"
    }
   }
  },
  {
   "cell_type": "markdown",
   "source": [
    "# Method D"
   ],
   "metadata": {
    "collapsed": false,
    "pycharm": {
     "name": "#%% md\n"
    }
   }
  },
  {
   "cell_type": "markdown",
   "source": [
    "## Compute density and velocity"
   ],
   "metadata": {
    "collapsed": false,
    "pycharm": {
     "name": "#%% md\n"
    }
   }
  },
  {
   "cell_type": "markdown",
   "source": [
    "### Without cutoff radius"
   ],
   "metadata": {
    "collapsed": false,
    "pycharm": {
     "name": "#%% md\n"
    }
   }
  },
  {
   "cell_type": "code",
   "execution_count": null,
   "outputs": [],
   "source": [
    "from analyzer.methods.velocity_calculator import compute_voronoi_velocity\n",
    "from analyzer.methods.density_calculator import compute_voronoi_density\n",
    "\n",
    "voronoi_density, individual = compute_voronoi_density(trajectory.data, measurement_area, geometry)\n",
    "\n",
    "voronoi_velocity, individual_velocity = compute_voronoi_velocity(\n",
    "    trajectory.data, individual, trajectory.frame_rate, 5, measurement_area\n",
    ")"
   ],
   "metadata": {
    "collapsed": false,
    "pycharm": {
     "name": "#%%\n"
    }
   }
  },
  {
   "cell_type": "markdown",
   "source": [
    "### With cutoff radius"
   ],
   "metadata": {
    "collapsed": false,
    "pycharm": {
     "name": "#%% md\n"
    }
   }
  },
  {
   "cell_type": "code",
   "execution_count": null,
   "outputs": [],
   "source": [
    "from analyzer.methods.velocity_calculator import compute_voronoi_velocity\n",
    "from analyzer.methods.density_calculator import compute_voronoi_density\n",
    "\n",
    "voronoi_density_cutoff, individual_cutoff = compute_voronoi_density(\n",
    "    trajectory.data, measurement_area, geometry, 0.8, 12\n",
    ")\n",
    "\n",
    "voronoi_velocity_cutoff, individual_velocity_cutoff = compute_voronoi_velocity(\n",
    "    trajectory.data, individual, trajectory.frame_rate, 5, measurement_area\n",
    ")"
   ],
   "metadata": {
    "collapsed": false,
    "pycharm": {
     "name": "#%%\n"
    }
   }
  },
  {
   "cell_type": "markdown",
   "source": [
    "## Compute velocity and density profiles"
   ],
   "metadata": {
    "collapsed": false,
    "pycharm": {
     "name": "#%% md\n"
    }
   }
  },
  {
   "cell_type": "code",
   "execution_count": null,
   "outputs": [],
   "source": [
    "import pandas as pd\n",
    "\n",
    "from analyzer.methods.profile_calculator import compute_profiles\n",
    "from analyzer.methods.velocity_calculator import compute_voronoi_velocity\n",
    "from analyzer.methods.density_calculator import compute_voronoi_density\n",
    "\n",
    "frames_data = trajectory.data[trajectory.data.frame.isin(range(800, 1000))]\n",
    "\n",
    "voronoi_density_frames, individual_frames = compute_voronoi_density(\n",
    "    frames_data, measurement_area, geometry, 0.8, 12\n",
    ")\n",
    "voronoi_velocity_frames, individual_velocity_frames = compute_voronoi_velocity(\n",
    "    trajectory.data, individual_frames, trajectory.frame_rate, 5, measurement_area\n",
    ")\n",
    "\n",
    "density_profiles, velocity_profiles = compute_profiles(\n",
    "    pd.merge(individual_frames, individual_velocity_frames, on=[\"ID\", \"frame\"], how=\"left\"),\n",
    "    geometry.walkable_area,\n",
    "    0.2,\n",
    ")"
   ],
   "metadata": {
    "collapsed": false,
    "pycharm": {
     "name": "#%%\n"
    }
   }
  },
  {
   "cell_type": "markdown",
   "source": [
    "## Plots"
   ],
   "metadata": {
    "collapsed": false,
    "pycharm": {
     "name": "#%% md\n"
    }
   }
  },
  {
   "cell_type": "markdown",
   "source": [
    "### Plot velocity, density and fundamental diagram"
   ],
   "metadata": {
    "collapsed": false,
    "pycharm": {
     "name": "#%% md\n"
    }
   }
  },
  {
   "cell_type": "code",
   "execution_count": null,
   "outputs": [],
   "source": [
    "import matplotlib.pyplot as plt\n",
    "\n",
    "for velocity, density, title in [\n",
    "    (voronoi_velocity, voronoi_density, \"without cutoff\"),\n",
    "    (voronoi_velocity_cutoff, voronoi_density_cutoff, \"with cutoff\"),\n",
    "]:\n",
    "    fig, (ax0, ax1, ax2) = plt.subplots(nrows=1, ncols=3, figsize=(20, 6))\n",
    "    fig.suptitle(title)\n",
    "    ax0.set_title(\"Velocity\")\n",
    "    ax0.scatter(velocity.index, velocity, alpha=0.5, marker=\"x\")\n",
    "    ax0.set_xlim(\n",
    "        left=0,\n",
    "    )\n",
    "    ax0.set_ylim(bottom=-0.2, top=3)\n",
    "    ax0.set_xlabel(\"frame\")\n",
    "    ax0.set_ylabel(\"v / m/s\")\n",
    "    ax0.grid()\n",
    "\n",
    "    ax1.set_title(\"Density\")\n",
    "    ax1.scatter(density.index, density[\"voronoi density\"], alpha=0.5, marker=\"x\")\n",
    "    ax1.set_xlim(left=0)\n",
    "    ax1.set_ylim(bottom=0, top=4)\n",
    "    ax1.set_xlabel(\"frame\")\n",
    "    ax1.set_ylabel(\"rho / 1/m^2\")\n",
    "    ax1.grid()\n",
    "\n",
    "    ax2.set_title(\"Fundamental Diagram\")\n",
    "\n",
    "    ax2.scatter(\n",
    "        density[\"voronoi density\"],\n",
    "        velocity,\n",
    "        alpha=0.2,\n",
    "        marker=\"x\",\n",
    "    )\n",
    "    ax2.set_aspect(\"equal\")\n",
    "    ax2.set_xlim(left=0, right=5)\n",
    "    ax2.set_ylim(bottom=-0.2, top=3)\n",
    "\n",
    "    ax2.set_xlabel(\"rho / 1/m^2\")\n",
    "    ax2.set_ylabel(\"v/ m/s\")\n",
    "    ax2.grid()"
   ],
   "metadata": {
    "collapsed": false,
    "pycharm": {
     "name": "#%%\n"
    }
   }
  },
  {
   "cell_type": "markdown",
   "source": [
    "### Plot voronoi cells"
   ],
   "metadata": {
    "collapsed": false,
    "pycharm": {
     "name": "#%% md\n"
    }
   }
  },
  {
   "cell_type": "code",
   "execution_count": null,
   "outputs": [],
   "source": [
    "import matplotlib.pyplot as plt\n",
    "import pandas as pd\n",
    "\n",
    "frame = 1000\n",
    "use_cut_off_data = True\n",
    "data = individual_cutoff if use_cut_off_data else individual\n",
    "\n",
    "data = pd.merge(trajectory.data, data, on=[\"ID\", \"frame\"], how=\"left\")\n",
    "data = data[data.frame == frame]\n",
    "\n",
    "\n",
    "fig = plt.figure(figsize=(15, 20))\n",
    "ax1 = fig.add_subplot(111, aspect=\"equal\")\n",
    "\n",
    "# Plot geometry\n",
    "ax1.plot(*pygeos.to_shapely(geometry.walkable_area).exterior.xy, color=\"k\")\n",
    "\n",
    "# Plot measurement area\n",
    "ax1.plot(*pygeos.to_shapely(measurement_area).exterior.xy, color=\"g\")\n",
    "\n",
    "# Plot voronoi cells\n",
    "for id, ped in data.groupby(\"ID\"):\n",
    "    if not pygeos.is_empty(ped[\"intersection voronoi\"].iat[0]):\n",
    "        intersection_polygon = ped[\"intersection voronoi\"]\n",
    "        poly = pygeos.to_shapely(intersection_polygon)[0]\n",
    "        p = ax1.plot(*poly.exterior.xy, alpha=0.5)\n",
    "        ax1.fill(*poly.exterior.xy, fc=p[-1].get_color(), alpha=0.2)\n",
    "\n",
    "        intersection_polygon = ped[\"individual voronoi\"]\n",
    "        poly = pygeos.to_shapely(intersection_polygon)[0]\n",
    "        ax1.plot(*poly.exterior.xy, alpha=0.2, color=p[-1].get_color())\n",
    "        ax1.fill(*poly.exterior.xy, fc=p[-1].get_color(), alpha=0.1)\n",
    "\n",
    "        ax1.scatter(ped[\"X\"], ped[\"Y\"], c=p[-1].get_color())\n",
    "\n",
    "    else:\n",
    "        intersection_polygon = ped[\"individual voronoi\"]\n",
    "        poly = pygeos.to_shapely(intersection_polygon)[0]\n",
    "        ax1.plot(*poly.exterior.xy, alpha=0.2, color=\"gray\")\n",
    "        ax1.fill(*poly.exterior.xy, fc=\"gray\", alpha=0.02)\n",
    "\n",
    "        ax1.scatter(ped[\"X\"], ped[\"Y\"], color=\"k\", alpha=0.1)"
   ],
   "metadata": {
    "collapsed": false,
    "pycharm": {
     "name": "#%%\n"
    }
   }
  },
  {
   "cell_type": "markdown",
   "source": [],
   "metadata": {
    "collapsed": false,
    "pycharm": {
     "name": "#%% md\n"
    }
   }
  },
  {
   "cell_type": "markdown",
   "source": [
    "### Plot profiles"
   ],
   "metadata": {
    "collapsed": false,
    "pycharm": {
     "name": "#%% md\n"
    }
   }
  },
  {
   "cell_type": "code",
   "execution_count": null,
   "outputs": [],
   "source": [
    "import matplotlib.pyplot as plt\n",
    "import numpy as np\n",
    "\n",
    "bounds = pygeos.bounds(geometry.walkable_area)\n",
    "\n",
    "fig, (ax0, ax1) = plt.subplots(nrows=1, ncols=2, figsize=(10, 10))\n",
    "\n",
    "ax0.set_title(\"Density\")\n",
    "cm = ax0.imshow(\n",
    "    np.mean(density_profiles, axis=0),\n",
    "    extent=[bounds[0], bounds[2], bounds[1], bounds[3]],\n",
    "    interpolation=\"None\",\n",
    "    cmap=\"RdBu_r\",\n",
    "    vmin=0,\n",
    "    vmax=5,\n",
    ")\n",
    "fig.colorbar(cm, ax=ax0, shrink=0.3)\n",
    "ax0.plot(*pygeos.to_shapely(geometry.walkable_area).exterior.xy, color=\"k\")\n",
    "\n",
    "\n",
    "ax1.set_title(\"Velocity\")\n",
    "cm = ax1.imshow(\n",
    "    np.mean(velocity_profiles, axis=0),\n",
    "    extent=[bounds[0], bounds[2], bounds[1], bounds[3]],\n",
    "    cmap=\"RdBu\",\n",
    "    vmin=0,\n",
    "    vmax=1.5,\n",
    ")\n",
    "fig.colorbar(cm, ax=ax1, shrink=0.3)\n",
    "\n",
    "ax1.plot(*pygeos.to_shapely(geometry.walkable_area).exterior.xy, color=\"k\")\n",
    "\n",
    "fig.tight_layout()"
   ],
   "metadata": {
    "collapsed": false,
    "pycharm": {
     "name": "#%%\n"
    }
   }
  },
  {
   "cell_type": "code",
   "execution_count": null,
   "outputs": [],
   "source": [
    "import pandas as pd\n",
    "\n",
    "from analyzer.methods.profile_calculator import compute_profiles\n",
    "from analyzer.methods.velocity_calculator import compute_voronoi_velocity\n",
    "from analyzer.methods.density_calculator import compute_voronoi_density\n",
    "\n",
    "frames_data = trajectory.data[trajectory.data.frame.isin(range(800, 1000))]\n",
    "\n",
    "voronoi_density_frames, individual_frames = compute_voronoi_density(\n",
    "    frames_data, measurement_area, geometry, 0.8, 12\n",
    ")\n",
    "voronoi_velocity_frames, individual_velocity_frames = compute_voronoi_velocity(\n",
    "    trajectory.data, individual_frames, trajectory.frame_rate, 5, measurement_area\n",
    ")\n",
    "\n",
    "density_profiles, velocity_profiles = compute_profiles(\n",
    "    pd.merge(individual_frames, individual_velocity_frames, on=[\"ID\", \"frame\"], how=\"left\"),\n",
    "    geometry.walkable_area,\n",
    "    0.2,\n",
    ")"
   ],
   "metadata": {
    "collapsed": false,
    "pycharm": {
     "name": "#%%\n"
    }
   }
  },
  {
   "cell_type": "markdown",
   "source": [
    "## Plots"
   ],
   "metadata": {
    "collapsed": false,
    "pycharm": {
     "name": "#%% md\n"
    }
   }
  },
  {
   "cell_type": "markdown",
   "source": [
    "### Plot velocity, density and fundamental diagram"
   ],
   "metadata": {
    "collapsed": false,
    "pycharm": {
     "name": "#%% md\n"
    }
   }
  },
  {
   "cell_type": "code",
   "execution_count": null,
   "outputs": [],
   "source": [
    "import matplotlib.pyplot as plt\n",
    "\n",
    "for velocity, density, title in [\n",
    "    (voronoi_velocity, voronoi_density, \"without cutoff\"),\n",
    "    (voronoi_velocity_cutoff, voronoi_density_cutoff, \"with cutoff\"),\n",
    "]:\n",
    "    fig, (ax0, ax1, ax2) = plt.subplots(nrows=1, ncols=3, figsize=(20, 6))\n",
    "    fig.suptitle(title)\n",
    "    ax0.set_title(\"Velocity\")\n",
    "    ax0.scatter(velocity.index, velocity, alpha=0.5, marker=\"x\")\n",
    "    ax0.set_xlim(\n",
    "        left=0,\n",
    "    )\n",
    "    ax0.set_ylim(bottom=-0.2, top=3)\n",
    "    ax0.set_xlabel(\"frame\")\n",
    "    ax0.set_ylabel(\"v / m/s\")\n",
    "    ax0.grid()\n",
    "\n",
    "    ax1.set_title(\"Density\")\n",
    "    ax1.scatter(density.index, density[\"voronoi density\"], alpha=0.5, marker=\"x\")\n",
    "    ax1.set_xlim(left=0)\n",
    "    ax1.set_ylim(bottom=0, top=4)\n",
    "    ax1.set_xlabel(\"frame\")\n",
    "    ax1.set_ylabel(\"rho / 1/m^2\")\n",
    "    ax1.grid()\n",
    "\n",
    "    ax2.set_title(\"Fundamental Diagram\")\n",
    "\n",
    "    ax2.scatter(\n",
    "        density[\"voronoi density\"],\n",
    "        velocity,\n",
    "        alpha=0.2,\n",
    "        marker=\"x\",\n",
    "    )\n",
    "    ax2.set_aspect(\"equal\")\n",
    "    ax2.set_xlim(left=0, right=5)\n",
    "    ax2.set_ylim(bottom=-0.2, top=3)\n",
    "\n",
    "    ax2.set_xlabel(\"rho / 1/m^2\")\n",
    "    ax2.set_ylabel(\"v/ m/s\")\n",
    "    ax2.grid()"
   ],
   "metadata": {
    "collapsed": false,
    "pycharm": {
     "name": "#%%\n"
    }
   }
  },
  {
   "cell_type": "markdown",
   "source": [
    "### Plot voronoi cells"
   ],
   "metadata": {
    "collapsed": false,
    "pycharm": {
     "name": "#%% md\n"
    }
   }
  },
  {
   "cell_type": "code",
   "execution_count": null,
   "outputs": [],
   "source": [
    "import matplotlib.pyplot as plt\n",
    "import pandas as pd\n",
    "\n",
    "frame = 1000\n",
    "use_cut_off_data = True\n",
    "data = individual_cutoff if use_cut_off_data else individual\n",
    "\n",
    "data = pd.merge(trajectory.data, data, on=[\"ID\", \"frame\"], how=\"left\")\n",
    "data = data[data.frame == frame]\n",
    "\n",
    "\n",
    "fig = plt.figure(figsize=(15, 20))\n",
    "ax1 = fig.add_subplot(111, aspect=\"equal\")\n",
    "\n",
    "# Plot geometry\n",
    "ax1.plot(*pygeos.to_shapely(geometry.walkable_area).exterior.xy, color=\"k\")\n",
    "\n",
    "# Plot measurement area\n",
    "ax1.plot(*pygeos.to_shapely(measurement_area).exterior.xy, color=\"g\")\n",
    "\n",
    "# Plot voronoi cells\n",
    "for id, ped in data.groupby(\"ID\"):\n",
    "    if not pygeos.is_empty(ped[\"intersection voronoi\"].iat[0]):\n",
    "        intersection_polygon = ped[\"intersection voronoi\"]\n",
    "        poly = pygeos.to_shapely(intersection_polygon)[0]\n",
    "        p = ax1.plot(*poly.exterior.xy, alpha=0.5)\n",
    "        ax1.fill(*poly.exterior.xy, fc=p[-1].get_color(), alpha=0.2)\n",
    "\n",
    "        intersection_polygon = ped[\"individual voronoi\"]\n",
    "        poly = pygeos.to_shapely(intersection_polygon)[0]\n",
    "        ax1.plot(*poly.exterior.xy, alpha=0.2, color=p[-1].get_color())\n",
    "        ax1.fill(*poly.exterior.xy, fc=p[-1].get_color(), alpha=0.1)\n",
    "\n",
    "        ax1.scatter(ped[\"X\"], ped[\"Y\"], c=p[-1].get_color())\n",
    "\n",
    "    else:\n",
    "        intersection_polygon = ped[\"individual voronoi\"]\n",
    "        poly = pygeos.to_shapely(intersection_polygon)[0]\n",
    "        ax1.plot(*poly.exterior.xy, alpha=0.2, color=\"gray\")\n",
    "        ax1.fill(*poly.exterior.xy, fc=\"gray\", alpha=0.02)\n",
    "\n",
    "        ax1.scatter(ped[\"X\"], ped[\"Y\"], color=\"k\", alpha=0.1)"
   ],
   "metadata": {
    "collapsed": false,
    "pycharm": {
     "name": "#%%\n"
    }
   }
  },
  {
   "cell_type": "markdown",
   "source": [],
   "metadata": {
    "collapsed": false,
    "pycharm": {
     "name": "#%% md\n"
    }
   }
  },
  {
   "cell_type": "markdown",
   "source": [
    "### Plot profiles"
   ],
   "metadata": {
    "collapsed": false,
    "pycharm": {
     "name": "#%% md\n"
    }
   }
  },
  {
   "cell_type": "code",
   "execution_count": null,
   "outputs": [],
   "source": [
    "import matplotlib.pyplot as plt\n",
    "import numpy as np\n",
    "\n",
    "bounds = pygeos.bounds(geometry.walkable_area)\n",
    "\n",
    "fig, (ax0, ax1) = plt.subplots(nrows=1, ncols=2, figsize=(10, 10))\n",
    "\n",
    "ax0.set_title(\"Density\")\n",
    "cm = ax0.imshow(\n",
    "    np.mean(density_profiles, axis=0),\n",
    "    extent=[bounds[0], bounds[2], bounds[1], bounds[3]],\n",
    "    interpolation=\"None\",\n",
    "    cmap=\"RdBu_r\",\n",
    "    vmin=0,\n",
    "    vmax=5,\n",
    ")\n",
    "fig.colorbar(cm, ax=ax0, shrink=0.3)\n",
    "ax0.plot(*pygeos.to_shapely(geometry.walkable_area).exterior.xy, color=\"k\")\n",
    "\n",
    "\n",
    "ax1.set_title(\"Velocity\")\n",
    "cm = ax1.imshow(\n",
    "    np.mean(velocity_profiles, axis=0),\n",
    "    extent=[bounds[0], bounds[2], bounds[1], bounds[3]],\n",
    "    cmap=\"RdBu\",\n",
    "    vmin=0,\n",
    "    vmax=1.5,\n",
    ")\n",
    "fig.colorbar(cm, ax=ax1, shrink=0.3)\n",
    "\n",
    "ax1.plot(*pygeos.to_shapely(geometry.walkable_area).exterior.xy, color=\"k\")\n",
    "\n",
    "fig.tight_layout()"
   ],
   "metadata": {
    "collapsed": false,
    "pycharm": {
     "name": "#%%\n"
    }
   }
  }
 ],
 "metadata": {
  "kernelspec": {
   "display_name": "Python 3",
   "language": "python",
   "name": "python3"
  },
  "language_info": {
   "codemirror_mode": {
    "name": "ipython",
    "version": 2
   },
   "file_extension": ".py",
   "mimetype": "text/x-python",
   "name": "python",
   "nbconvert_exporter": "python",
   "pygments_lexer": "ipython2",
   "version": "2.7.6"
  }
 },
 "nbformat": 4,
 "nbformat_minor": 0
}