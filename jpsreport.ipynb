{
 "cells": [
  {
   "cell_type": "code",
   "execution_count": null,
   "outputs": [],
   "source": [
    "import pathlib"
   ],
   "metadata": {
    "collapsed": false,
    "pycharm": {
     "name": "#%%\n"
    }
   }
  },
  {
   "cell_type": "markdown",
   "source": [
    "# Setup"
   ],
   "metadata": {
    "collapsed": false,
    "pycharm": {
     "name": "#%% md\n"
    }
   }
  },
  {
   "cell_type": "markdown",
   "source": [
    "## Parse trajectory"
   ],
   "metadata": {
    "collapsed": false,
    "pycharm": {
     "name": "#%% md\n"
    }
   }
  },
  {
   "cell_type": "code",
   "execution_count": null,
   "outputs": [],
   "source": [
    "from analyzer.io.trajectory_parser import parse_trajectory\n",
    "\n",
    "trajectory = parse_trajectory(pathlib.Path(\"demos/crossing/CROSSING_90_D_6.txt\"), 16.)"
   ],
   "metadata": {
    "collapsed": false,
    "pycharm": {
     "name": "#%%\n"
    }
   }
  },
  {
   "cell_type": "markdown",
   "source": [
    "## Define geometry"
   ],
   "metadata": {
    "collapsed": false,
    "pycharm": {
     "name": "#%% md\n"
    }
   }
  },
  {
   "cell_type": "code",
   "execution_count": null,
   "outputs": [],
   "source": [
    "from analyzer.data.geometry import Geometry"
   ],
   "metadata": {
    "collapsed": false,
    "pycharm": {
     "name": "#%%\n"
    }
   }
  },
  {
   "cell_type": "markdown",
   "source": [
    "### Define geometry in code"
   ],
   "metadata": {
    "collapsed": false,
    "pycharm": {
     "name": "#%% md\n"
    }
   }
  },
  {
   "cell_type": "code",
   "execution_count": null,
   "outputs": [],
   "source": [
    "import pygeos\n",
    "geometry = Geometry(pygeos.polygons([(-9, 3), (-2, 3), (-2, 10), (2, 10), (2, 3), (9, 3), (9, -1), (2, -1), (2, -8), (-2, -8), (-2, -1), (-9, -1), (-9, 3)]))"
   ],
   "metadata": {
    "collapsed": false,
    "pycharm": {
     "name": "#%%\n"
    }
   }
  },
  {
   "cell_type": "markdown",
   "source": [
    "### Define geometry in file\n",
    "\n",
    "The same format as for JuPedSim geometries can be used as well directly from files.\n",
    "\n",
    "**Note:** Currently obstacles will not be parsed from the file!"
   ],
   "metadata": {
    "collapsed": false,
    "pycharm": {
     "name": "#%% md\n"
    }
   }
  },
  {
   "cell_type": "code",
   "execution_count": null,
   "outputs": [],
   "source": [
    "from analyzer.io.geometry_parser import parse_geometry\n",
    "\n",
    "geometry = parse_geometry('demos/crossing/geometry.xml')"
   ],
   "metadata": {
    "collapsed": false,
    "pycharm": {
     "name": "#%%\n"
    }
   }
  },
  {
   "cell_type": "markdown",
   "source": [
    "## Define measurement areas and lines"
   ],
   "metadata": {
    "collapsed": false,
    "pycharm": {
     "name": "#%% md\n"
    }
   }
  },
  {
   "cell_type": "code",
   "execution_count": null,
   "outputs": [],
   "source": [
    "import pygeos\n",
    "\n",
    "measurement_area = pygeos.polygons([(-2, -1), (-2, 3), (2, 3), (2, -1)])\n",
    "\n",
    "measurement_line_left = pygeos.linestrings([(-3, 3), (-3, -1)])\n",
    "measurement_line_right = pygeos.linestrings([(3, 3), (3, -1)])\n",
    "\n",
    "measurement_line_top = pygeos.linestrings([(-2, 4), (2, 4)])\n",
    "measurement_line_bottom = pygeos.linestrings([(-2, -2), (2, -2)])"
   ],
   "metadata": {
    "collapsed": false,
    "pycharm": {
     "name": "#%%\n"
    }
   }
  },
  {
   "cell_type": "markdown",
   "source": [
    "## Plot trajectories, geometry, and measurement areas/lines"
   ],
   "metadata": {
    "collapsed": false,
    "pycharm": {
     "name": "#%% md\n"
    }
   }
  },
  {
   "cell_type": "code",
   "execution_count": null,
   "metadata": {
    "collapsed": true,
    "pycharm": {
     "name": "#%%\n"
    }
   },
   "outputs": [],
   "source": [
    "import matplotlib.pyplot as plt\n",
    "\n",
    "fig = plt.figure(figsize=(15, 20))\n",
    "ax1 = fig.add_subplot(111, aspect=\"equal\")\n",
    "\n",
    "# Plot geometry\n",
    "ax1.plot(*pygeos.to_shapely(geometry.walkable_area).exterior.xy, color='k')\n",
    "\n",
    "## Plot measurement area\n",
    "ax1.plot(*pygeos.to_shapely(measurement_area).exterior.xy, color='g')\n",
    "ax1.fill(*pygeos.to_shapely(measurement_area).exterior.xy, color='g', alpha=0.3)\n",
    "\n",
    "## Plot measurement lines\n",
    "ax1.plot(*pygeos.to_shapely(measurement_line_left).xy, color='b')\n",
    "ax1.plot(*pygeos.to_shapely(measurement_line_right).xy, color='b')\n",
    "ax1.plot(*pygeos.to_shapely(measurement_line_top).xy, color='orange')\n",
    "ax1.plot(*pygeos.to_shapely(measurement_line_bottom).xy, color='orange')\n",
    "\n",
    "# Plot trajectories\n",
    "for id, ped in trajectory.data.groupby(\"ID\"):\n",
    "    p = ax1.plot(ped[\"X\"], ped[\"Y\"], label=id, alpha=0.1, color='r')\n",
    "    ax1.scatter(\n",
    "        ped[ped.frame == ped.frame.max()][\"X\"],\n",
    "        ped[ped.frame == ped.frame.max()][\"Y\"],\n",
    "        c=p[-1].get_color(),\n",
    "        marker=\"x\",\n",
    "    )\n",
    "plt.show()"
   ]
  },
  {
   "cell_type": "markdown",
   "source": [
    "# Methods A"
   ],
   "metadata": {
    "collapsed": false,
    "pycharm": {
     "name": "#%% md\n"
    }
   }
  },
  {
   "cell_type": "markdown",
   "source": [
    "## Compute n-t and flow"
   ],
   "metadata": {
    "collapsed": false,
    "pycharm": {
     "name": "#%% md\n"
    }
   }
  },
  {
   "cell_type": "code",
   "execution_count": null,
   "outputs": [],
   "source": [
    "from analyzer.methods.flow_calculator import compute_n_t\n",
    "from analyzer.methods.flow_calculator import compute_flow\n",
    "\n",
    "from analyzer.methods.velocity_calculator import compute_individual_velocity\n",
    "\n",
    "individual_speed = compute_individual_velocity(trajectory.data, trajectory.frame_rate, 10)\n",
    "\n",
    "nt_left, crossing_left = compute_n_t(trajectory.data, measurement_line_left, trajectory.frame_rate)\n",
    "nt_right, crossing_right = compute_n_t(trajectory.data, measurement_line_right, trajectory.frame_rate)\n",
    "\n",
    "delta_t = 100\n",
    "flow_left = compute_flow(nt_left, crossing_left, individual_speed, delta_t, trajectory.frame_rate)\n",
    "flow_right = compute_flow(nt_right, crossing_right, individual_speed, delta_t, trajectory.frame_rate)"
   ],
   "metadata": {
    "collapsed": false,
    "pycharm": {
     "name": "#%%\n"
    }
   }
  },
  {
   "cell_type": "markdown",
   "source": [
    "## Plot n-t diagram"
   ],
   "metadata": {
    "collapsed": false,
    "pycharm": {
     "name": "#%% md\n"
    }
   }
  },
  {
   "cell_type": "code",
   "execution_count": null,
   "outputs": [],
   "source": [
    "import matplotlib.pyplot as plt\n",
    "\n",
    "fig = plt.figure(figsize=(7, 7))\n",
    "ax1 = fig.add_subplot(111)\n",
    "\n",
    "ax1.plot(nt_left.index, nt_left['Cumulative pedestrians'], label='left')\n",
    "ax1.plot(nt_right.index, nt_right['Cumulative pedestrians'], label='right')\n",
    "\n",
    "ax1.legend()\n",
    "plt.show()"
   ],
   "metadata": {
    "collapsed": false,
    "pycharm": {
     "name": "#%%\n"
    }
   }
  }
 ],
 "metadata": {
  "kernelspec": {
   "display_name": "Python 3",
   "language": "python",
   "name": "python3"
  },
  "language_info": {
   "codemirror_mode": {
    "name": "ipython",
    "version": 2
   },
   "file_extension": ".py",
   "mimetype": "text/x-python",
   "name": "python",
   "nbconvert_exporter": "python",
   "pygments_lexer": "ipython2",
   "version": "2.7.6"
  }
 },
 "nbformat": 4,
 "nbformat_minor": 0
}