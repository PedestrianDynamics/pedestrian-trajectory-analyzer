{
 "cells": [
  {
   "cell_type": "code",
   "execution_count": null,
   "outputs": [],
   "source": [
    "import pathlib"
   ],
   "metadata": {
    "collapsed": false,
    "pycharm": {
     "name": "#%%\n"
    }
   }
  },
  {
   "cell_type": "markdown",
   "source": [
    "# Setup"
   ],
   "metadata": {
    "collapsed": false,
    "pycharm": {
     "name": "#%% md\n"
    }
   }
  },
  {
   "cell_type": "markdown",
   "source": [
    "## Parse trajectory"
   ],
   "metadata": {
    "collapsed": false,
    "pycharm": {
     "name": "#%% md\n"
    }
   }
  },
  {
   "cell_type": "code",
   "execution_count": null,
   "outputs": [],
   "source": [
    "from analyzer.io.trajectory_parser import parse_trajectory\n",
    "\n",
    "trajectory = parse_trajectory(pathlib.Path(\"demos/crossing/CROSSING_90_D_6.txt\"), 16.)"
   ],
   "metadata": {
    "collapsed": false,
    "pycharm": {
     "name": "#%%\n"
    }
   }
  },
  {
   "cell_type": "markdown",
   "source": [
    "## Define geometry"
   ],
   "metadata": {
    "collapsed": false,
    "pycharm": {
     "name": "#%% md\n"
    }
   }
  },
  {
   "cell_type": "code",
   "execution_count": null,
   "outputs": [],
   "source": [
    "from analyzer.data.geometry import Geometry"
   ],
   "metadata": {
    "collapsed": false,
    "pycharm": {
     "name": "#%%\n"
    }
   }
  },
  {
   "cell_type": "markdown",
   "source": [
    "### Define geometry in code"
   ],
   "metadata": {
    "collapsed": false,
    "pycharm": {
     "name": "#%% md\n"
    }
   }
  },
  {
   "cell_type": "code",
   "execution_count": null,
   "outputs": [],
   "source": [
    "import pygeos\n",
    "geometry = Geometry(pygeos.polygons([(-9, 3), (-2, 3), (-2, 10), (2, 10), (2, 3), (9, 3), (9, -1), (2, -1), (2, -8), (-2, -8), (-2, -1), (-9, -1), (-9, 3)]))"
   ],
   "metadata": {
    "collapsed": false,
    "pycharm": {
     "name": "#%%\n"
    }
   }
  },
  {
   "cell_type": "markdown",
   "source": [
    "### Define geometry in file\n",
    "\n",
    "The same format as for JuPedSim geometries can be used as well directly from files.\n",
    "\n",
    "**Note:** Currently obstacles will not be parsed from the file!"
   ],
   "metadata": {
    "collapsed": false,
    "pycharm": {
     "name": "#%% md\n"
    }
   }
  },
  {
   "cell_type": "code",
   "execution_count": null,
   "outputs": [],
   "source": [
    "from analyzer.io.geometry_parser import parse_geometry\n",
    "\n",
    "geometry = parse_geometry('demos/crossing/geometry.xml')"
   ],
   "metadata": {
    "collapsed": false,
    "pycharm": {
     "name": "#%%\n"
    }
   }
  },
  {
   "cell_type": "markdown",
   "source": [
    "## Define measurement areas and lines"
   ],
   "metadata": {
    "collapsed": false,
    "pycharm": {
     "name": "#%% md\n"
    }
   }
  },
  {
   "cell_type": "code",
   "execution_count": null,
   "outputs": [],
   "source": [
    "import pygeos\n",
    "\n",
    "measurement_area = pygeos.polygons([(-2, -1), (-2, 3), (2, 3), (2, -1)])\n",
    "\n",
    "measurement_line_left = pygeos.linestrings([(-3, 3), (-3, -1)])\n",
    "measurement_line_right = pygeos.linestrings([(3, 3), (3, -1)])\n",
    "\n",
    "measurement_line_top = pygeos.linestrings([(-2, 4), (2, 4)])\n",
    "measurement_line_bottom = pygeos.linestrings([(-2, -2), (2, -2)])"
   ],
   "metadata": {
    "collapsed": false,
    "pycharm": {
     "name": "#%%\n"
    }
   }
  },
  {
   "cell_type": "markdown",
   "source": [
    "## Plot trajectories, geometry, and measurement areas/lines"
   ],
   "metadata": {
    "collapsed": false,
    "pycharm": {
     "name": "#%% md\n"
    }
   }
  },
  {
   "cell_type": "code",
   "execution_count": null,
   "outputs": [],
   "source": [
    "import matplotlib.pyplot as plt\n",
    "\n",
    "fig = plt.figure(figsize=(15, 20))\n",
    "ax1 = fig.add_subplot(111, aspect=\"equal\")\n",
    "\n",
    "# Plot geometry\n",
    "ax1.plot(*pygeos.to_shapely(geometry.walkable_area).exterior.xy, color='k')\n",
    "\n",
    "## Plot measurement area\n",
    "ax1.plot(*pygeos.to_shapely(measurement_area).exterior.xy, color='g')\n",
    "ax1.fill(*pygeos.to_shapely(measurement_area).exterior.xy, color='g', alpha=0.3)\n",
    "\n",
    "## Plot measurement lines\n",
    "ax1.plot(*pygeos.to_shapely(measurement_line_left).xy, color='b')\n",
    "ax1.plot(*pygeos.to_shapely(measurement_line_right).xy, color='b')\n",
    "ax1.plot(*pygeos.to_shapely(measurement_line_top).xy, color='orange')\n",
    "ax1.plot(*pygeos.to_shapely(measurement_line_bottom).xy, color='orange')\n",
    "\n",
    "# Plot trajectories\n",
    "for id, ped in trajectory.data.groupby(\"ID\"):\n",
    "    p = ax1.plot(ped[\"X\"], ped[\"Y\"], label=id, alpha=0.1, color='r')\n",
    "    ax1.scatter(\n",
    "        ped[ped.frame == ped.frame.max()][\"X\"],\n",
    "        ped[ped.frame == ped.frame.max()][\"Y\"],\n",
    "        c=p[-1].get_color(),\n",
    "        marker=\"x\",\n",
    "    )\n",
    "plt.show()"
   ],
   "metadata": {
    "collapsed": false,
    "pycharm": {
     "name": "#%%\n"
    }
   }
  },
  {
   "cell_type": "markdown",
   "source": [
    "# Methods A"
   ],
   "metadata": {
    "collapsed": false,
    "pycharm": {
     "name": "#%% md\n"
    }
   }
  },
  {
   "cell_type": "markdown",
   "source": [
    "## Compute n-t and flow"
   ],
   "metadata": {
    "collapsed": false,
    "pycharm": {
     "name": "#%% md\n"
    }
   }
  },
  {
   "cell_type": "code",
   "execution_count": null,
   "outputs": [],
   "source": [
    "from analyzer.methods.flow_calculator import compute_n_t\n",
    "from analyzer.methods.flow_calculator import compute_flow\n",
    "\n",
    "from analyzer.methods.velocity_calculator import compute_individual_velocity\n",
    "\n",
    "individual_speed = compute_individual_velocity(trajectory.data, trajectory.frame_rate, 10)\n",
    "\n",
    "nt_left, crossing_left = compute_n_t(trajectory.data, measurement_line_left, trajectory.frame_rate)\n",
    "nt_right, crossing_right = compute_n_t(trajectory.data, measurement_line_right, trajectory.frame_rate)\n",
    "\n",
    "delta_t = 100\n",
    "flow_left = compute_flow(nt_left, crossing_left, individual_speed, delta_t, trajectory.frame_rate)\n",
    "flow_right = compute_flow(nt_right, crossing_right, individual_speed, delta_t, trajectory.frame_rate)"
   ],
   "metadata": {
    "collapsed": false,
    "pycharm": {
     "name": "#%%\n"
    }
   }
  },
  {
   "cell_type": "markdown",
   "source": [
    "## Plot n-t diagram"
   ],
   "metadata": {
    "collapsed": false,
    "pycharm": {
     "name": "#%% md\n"
    }
   }
  },
  {
   "cell_type": "code",
   "execution_count": null,
   "outputs": [],
   "source": [
    "import matplotlib.pyplot as plt\n",
    "\n",
    "fig = plt.figure(figsize=(7, 7))\n",
    "ax1 = fig.add_subplot(111)\n",
    "\n",
    "ax1.plot(nt_left.index, nt_left['Cumulative pedestrians'], label='left')\n",
    "ax1.plot(nt_right.index, nt_right['Cumulative pedestrians'], label='right')\n",
    "\n",
    "ax1.legend()\n",
    "plt.show()"
   ],
   "metadata": {
    "collapsed": false,
    "pycharm": {
     "name": "#%%\n"
    }
   }
  },
  {
   "cell_type": "markdown",
   "source": [
    "# Method B"
   ],
   "metadata": {
    "collapsed": false,
    "pycharm": {
     "name": "#%% md\n"
    }
   }
  },
  {
   "cell_type": "markdown",
   "source": [
    "## Compute individual velocity and density while passing the measurement area"
   ],
   "metadata": {
    "collapsed": false,
    "pycharm": {
     "name": "#%% md\n"
    }
   }
  },
  {
   "cell_type": "code",
   "execution_count": null,
   "outputs": [],
   "source": [
    "from analyzer.methods.velocity_calculator import compute_passing_speed\n",
    "from analyzer.methods.density_calculator import compute_passing_density, compute_classic_density\n",
    "from analyzer.methods.method_utils import compute_frame_range_in_area\n",
    "\n",
    "density_per_frame = compute_classic_density(trajectory.data, measurement_area)\n",
    "frames_in_area = compute_frame_range_in_area(trajectory.data, measurement_area)\n",
    "passing_speed = compute_passing_speed(frames_in_area, trajectory.frame_rate)\n",
    "passing_density = compute_passing_density(density_per_frame, frames_in_area)"
   ],
   "metadata": {
    "collapsed": false,
    "pycharm": {
     "name": "#%%\n"
    }
   }
  },
  {
   "cell_type": "markdown",
   "source": [
    "## Plot fundamental diagram"
   ],
   "metadata": {
    "collapsed": false,
    "pycharm": {
     "name": "#%% md\n"
    }
   }
  },
  {
   "cell_type": "code",
   "execution_count": null,
   "outputs": [],
   "source": [
    "import matplotlib.pyplot as plt\n",
    "\n",
    "fig = plt.figure(figsize=(7, 7))\n",
    "ax1 = fig.add_subplot(111)\n",
    "\n",
    "ax1.scatter(passing_density['density'], passing_speed['speed'])\n",
    "ax1.set_xlim(left=0, right=5)\n",
    "ax1.set_ylim(bottom=-0.2, top=3)\n",
    "\n",
    "ax1.set_xlabel(\"rho / 1/m^2\")\n",
    "ax1.set_ylabel(\"v/ m/s\")\n",
    "ax1.grid()\n",
    "plt.show()"
   ],
   "metadata": {
    "collapsed": false,
    "pycharm": {
     "name": "#%%\n"
    }
   }
  },
  {
   "cell_type": "markdown",
   "source": [
    "# Method C"
   ],
   "metadata": {
    "collapsed": false,
    "pycharm": {
     "name": "#%% md\n"
    }
   }
  },
  {
   "cell_type": "markdown",
   "source": [
    "## Compute density and velocity"
   ],
   "metadata": {
    "collapsed": false,
    "pycharm": {
     "name": "#%% md\n"
    }
   }
  },
  {
   "cell_type": "code",
   "execution_count": null,
   "outputs": [],
   "source": [
    "from analyzer.methods.density_calculator import compute_classic_density\n",
    "from analyzer.methods.velocity_calculator import compute_mean_velocity_per_frame\n",
    "from analyzer.methods.method_utils import get_peds_in_area\n",
    "\n",
    "peds_in_area = get_peds_in_area(trajectory.data, measurement_area)\n",
    "mean_speed_area, individual_speed_area = compute_mean_velocity_per_frame(\n",
    "    peds_in_area, trajectory.frame_rate, 5\n",
    ")\n",
    "\n",
    "classic_density = compute_classic_density(peds_in_area, measurement_area)"
   ],
   "metadata": {
    "collapsed": false,
    "pycharm": {
     "name": "#%%\n"
    }
   }
  },
  {
   "cell_type": "markdown",
   "source": [
    "## Plot velocity, density and fundamental diagram"
   ],
   "metadata": {
    "collapsed": false,
    "pycharm": {
     "name": "#%% md\n"
    }
   }
  },
  {
   "cell_type": "code",
   "execution_count": null,
   "outputs": [],
   "source": [
    "import matplotlib.pyplot as plt\n",
    "\n",
    "fig, (ax0, ax1, ax2) = plt.subplots(nrows=1, ncols=3, figsize=(20, 6))\n",
    "\n",
    "ax0.set_title(\"Velocity\")\n",
    "ax0.scatter(mean_speed_area.index, mean_speed_area, alpha=0.5, marker=\"x\")\n",
    "ax0.set_xlim(\n",
    "    left=0,\n",
    ")\n",
    "ax0.set_ylim(bottom=-0.2, top=3)\n",
    "ax0.set_xlabel(\"frame\")\n",
    "ax0.set_ylabel(\"v / m/s\")\n",
    "ax0.grid()\n",
    "\n",
    "ax1.set_title(\"Density\")\n",
    "ax1.scatter(classic_density.index, classic_density['classic density'], alpha=0.5, marker=\"x\")\n",
    "ax1.set_xlim(left=0)\n",
    "ax1.set_ylim(bottom=0, top=4)\n",
    "ax1.set_xlabel(\"frame\")\n",
    "ax1.set_ylabel(\"rho / 1/m^2\")\n",
    "ax1.grid()\n",
    "\n",
    "ax2.set_title(\"Fundamental Diagram\")\n",
    "\n",
    "ax2.scatter(\n",
    "    classic_density['classic density'], mean_speed_area,\n",
    "    alpha=0.2,\n",
    "    marker=\"x\",\n",
    ")\n",
    "ax2.set_aspect(\"equal\")\n",
    "ax2.set_xlim(left=0, right=5)\n",
    "ax2.set_ylim(bottom=-0.2, top=3)\n",
    "\n",
    "ax2.set_xlabel(\"rho / 1/m^2\")\n",
    "ax2.set_ylabel(\"v/ m/s\")\n",
    "ax2.grid()\n"
   ],
   "metadata": {
    "collapsed": false,
    "pycharm": {
     "name": "#%%\n"
    }
   }
  },
  {
   "cell_type": "markdown",
   "source": [],
   "metadata": {
    "collapsed": false,
    "pycharm": {
     "name": "#%% md\n"
    }
   }
  }
 ],
 "metadata": {
  "kernelspec": {
   "display_name": "Python 3",
   "language": "python",
   "name": "python3"
  },
  "language_info": {
   "codemirror_mode": {
    "name": "ipython",
    "version": 2
   },
   "file_extension": ".py",
   "mimetype": "text/x-python",
   "name": "python",
   "nbconvert_exporter": "python",
   "pygments_lexer": "ipython2",
   "version": "2.7.6"
  }
 },
 "nbformat": 4,
 "nbformat_minor": 0
}